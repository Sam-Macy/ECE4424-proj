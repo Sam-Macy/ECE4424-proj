{
 "cells": [
  {
   "cell_type": "code",
   "execution_count": 1,
   "id": "e17a3c62-4b42-4518-985b-2ad84447bca1",
   "metadata": {},
   "outputs": [],
   "source": [
    "import numpy as np\n",
    "from sklearn.model_selection import train_test_split\n",
    "from sklearn.feature_extraction.text import TfidfVectorizer\n",
    "from sklearn.svm import SVC\n",
    "from sklearn.metrics import accuracy_score\n",
    "\n",
    "from gensim.models import KeyedVectors\n",
    "\n",
    "import json\n",
    "import re\n",
    "import string"
   ]
  },
  {
   "cell_type": "code",
   "execution_count": 2,
   "id": "5a10d020-6ff1-4584-a7c7-5464bb3b5062",
   "metadata": {
    "scrolled": true
   },
   "outputs": [],
   "source": [
    "# Opening JSON file\n",
    "f = open('MMHS150K_GT.json')\n",
    " \n",
    "# returns JSON object as \n",
    "# a dictionary\n",
    "data = json.load(f)\n",
    "texts = []\n",
    "labels = []\n",
    "# Closing file\n",
    "f.close()\n",
    "# Iterating through the json\n",
    "# list\n",
    "for i in data:\n",
    "    text = data[i][\"tweet_text\"].split(\"https://\")[0]\n",
    "    text = text.lower()\n",
    "    mentions = r'@[^ ]'\n",
    "    text = re.sub(mentions, '', text)\n",
    "    text = text.translate(str.maketrans('','',string.punctuation))\n",
    "    texts.append(text)\n",
    "\n",
    "    label = data[i][\"labels_str\"][0]\n",
    "    labels.append(label)"
   ]
  },
  {
   "cell_type": "code",
   "execution_count": 3,
   "id": "b06d2c91-820f-4240-8ad1-3be66bce0509",
   "metadata": {},
   "outputs": [
    {
     "name": "stdout",
     "output_type": "stream",
     "text": [
      "split done\n",
      "training model\n",
      "model trained\n"
     ]
    }
   ],
   "source": [
    "# Load GLOVE model\n",
    "glove_model_path = \"glove.6B.100d.txt\"  # Replace with the path to your GLOVE file\n",
    "glove_model = KeyedVectors.load_word2vec_format(glove_model_path, binary=False, no_header=True)\n",
    "\n",
    "# Split the data into training and testing sets\n",
    "X_train, X_test, y_train, y_test = train_test_split(texts, labels, test_size=0.2, random_state=42)\n",
    "print(\"split done\")\n",
    "# Create document vectors using average GLOVE word vectors\n",
    "def get_doc_vector(doc, model):\n",
    "    words = doc.split()\n",
    "    vectors = [model[word] for word in words if word in model]\n",
    "    if not vectors:\n",
    "        return np.zeros(model.vector_size)\n",
    "    return np.mean(vectors, axis=0)\n",
    "\n",
    "X_train_vectors = np.array([get_doc_vector(doc, glove_model) for doc in X_train])\n",
    "X_test_vectors = np.array([get_doc_vector(doc, glove_model) for doc in X_test])\n",
    "print(\"training model\")\n",
    "# Train a support vector machine (SVM) classifier\n",
    "clf = SVC(kernel='linear')\n",
    "clf.fit(X_train_vectors, y_train)\n",
    "print(\"model trained\")\n",
    "# Make predictions on the test set\n",
    "y_pred = clf.predict(X_test_vectors)"
   ]
  },
  {
   "cell_type": "code",
   "execution_count": 4,
   "id": "2d320792-f8a8-4ecc-9d49-8858b70fdee8",
   "metadata": {},
   "outputs": [
    {
     "name": "stdout",
     "output_type": "stream",
     "text": [
      "Testing Accuracy: 0.70028366\n"
     ]
    }
   ],
   "source": [
    "# Evaluate the classifier\n",
    "accuracy = accuracy_score(y_test, y_pred)\n",
    "print(f\"Testing Accuracy: {accuracy:.8f}\")"
   ]
  },
  {
   "cell_type": "code",
   "execution_count": null,
   "id": "c9396f50-d0bd-4c1b-be59-7e8f8670dc29",
   "metadata": {},
   "outputs": [],
   "source": []
  }
 ],
 "metadata": {
  "kernelspec": {
   "display_name": "Python 3 (ipykernel)",
   "language": "python",
   "name": "python3"
  },
  "language_info": {
   "codemirror_mode": {
    "name": "ipython",
    "version": 3
   },
   "file_extension": ".py",
   "mimetype": "text/x-python",
   "name": "python",
   "nbconvert_exporter": "python",
   "pygments_lexer": "ipython3",
   "version": "3.8.17"
  }
 },
 "nbformat": 4,
 "nbformat_minor": 5
}
