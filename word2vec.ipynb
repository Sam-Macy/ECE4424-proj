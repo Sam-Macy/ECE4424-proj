{
 "cells": [
  {
   "cell_type": "code",
   "execution_count": 1,
   "id": "48a94852-f817-4bc0-9a23-8def34fab8d9",
   "metadata": {},
   "outputs": [],
   "source": [
    "from mpl_toolkits.mplot3d import Axes3D\n",
    "from sklearn.preprocessing import StandardScaler\n",
    "import matplotlib.pyplot as plt # plotting\n",
    "import numpy as np # linear algebra\n",
    "import os # accessing directory structure\n",
    "import pandas as pd # data processing, CSV file I/O (e.g. pd.read_csv)"
   ]
  },
  {
   "cell_type": "code",
   "execution_count": 2,
   "id": "899c9abf-6eea-4e24-b3e4-fe44c5486065",
   "metadata": {},
   "outputs": [],
   "source": [
    "from sklearn.feature_extraction.text import TfidfVectorizer, CountVectorizer\n",
    "from sklearn.model_selection import train_test_split\n",
    "from sklearn.metrics import roc_auc_score, f1_score, confusion_matrix\n",
    "from sklearn.naive_bayes import GaussianNB\n",
    "from sklearn.naive_bayes import MultinomialNB\n",
    "import json\n",
    "import re\n",
    "import string"
   ]
  },
  {
   "cell_type": "code",
   "execution_count": 3,
   "id": "31e1ad45-85ba-47e2-ba21-27c86876cb1d",
   "metadata": {
    "scrolled": true
   },
   "outputs": [],
   "source": [
    "# Opening JSON file\n",
    "f = open('MMHS150K_GT.json')\n",
    " \n",
    "# returns JSON object as \n",
    "# a dictionary\n",
    "data = json.load(f)\n",
    "texts = []\n",
    "labels = []\n",
    "# Closing file\n",
    "f.close()\n",
    "# Iterating through the json\n",
    "# list\n",
    "for i in data:\n",
    "    text = data[i][\"tweet_text\"].split(\"https://\")[0]\n",
    "    text = text.lower()\n",
    "    mentions = r'@[^ ]'\n",
    "    text = re.sub(mentions, '', text)\n",
    "    text = text.translate(str.maketrans('','',string.punctuation))\n",
    "    texts.append(text)\n",
    "\n",
    "    label = data[i][\"labels_str\"][0]\n",
    "    labels.append(label)"
   ]
  },
  {
   "cell_type": "code",
   "execution_count": 18,
   "id": "0dfd9abb-c732-4949-9c56-957445eb5437",
   "metadata": {},
   "outputs": [
    {
     "name": "stdout",
     "output_type": "stream",
     "text": [
      "Training\n",
      "['Homophobe' 'NotHate' 'OtherHate' 'Racist' 'Religion' 'Sexist']\n",
      "Training accuracy: 0.7032738740843332\n",
      "Testing accuracy: 0.6555648256299016\n"
     ]
    }
   ],
   "source": [
    "print(\"Training\")\n",
    "\n",
    "training, testing, y_train, y_test = train_test_split(texts, labels, test_size=0.2)\n",
    "\n",
    "featurizer = CountVectorizer()\n",
    "x_training = featurizer.fit_transform(training)\n",
    "x_testing = featurizer.transform(testing)\n",
    "NBmodel = MultinomialNB(class_prior=[1, 1, .8, 1, 1, 1])\n",
    "NBmodel.fit(x_training, y_train)\n",
    "\n",
    "print(NBmodel.classes_)\n",
    "print(\"Training accuracy: \" + str(NBmodel.score(x_training, y_train)))\n",
    "print(\"Testing accuracy: \" + str(NBmodel.score(x_testing, y_test)))"
   ]
  },
  {
   "cell_type": "code",
   "execution_count": null,
   "id": "7d3275dd-9af6-46a7-98f5-b3581333046f",
   "metadata": {},
   "outputs": [],
   "source": []
  }
 ],
 "metadata": {
  "kernelspec": {
   "display_name": "Python 3 (ipykernel)",
   "language": "python",
   "name": "python3"
  },
  "language_info": {
   "codemirror_mode": {
    "name": "ipython",
    "version": 3
   },
   "file_extension": ".py",
   "mimetype": "text/x-python",
   "name": "python",
   "nbconvert_exporter": "python",
   "pygments_lexer": "ipython3",
   "version": "3.8.17"
  }
 },
 "nbformat": 4,
 "nbformat_minor": 5
}
