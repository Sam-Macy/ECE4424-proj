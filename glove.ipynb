{
 "cells": [
  {
   "cell_type": "code",
   "execution_count": 2,
   "id": "48a94852-f817-4bc0-9a23-8def34fab8d9",
   "metadata": {},
   "outputs": [],
   "source": [
    "from mpl_toolkits.mplot3d import Axes3D\n",
    "from sklearn.preprocessing import StandardScaler\n",
    "import matplotlib.pyplot as plt # plotting\n",
    "import numpy as np # linear algebra\n",
    "import os # accessing directory structure\n",
    "import pandas as pd # data processing, CSV file I/O (e.g. pd.read_csv)\n",
    "import json"
   ]
  },
  {
   "cell_type": "code",
   "execution_count": 3,
   "id": "899c9abf-6eea-4e24-b3e4-fe44c5486065",
   "metadata": {},
   "outputs": [],
   "source": [
    "from sklearn.feature_extraction.text import TfidfVectorizer, CountVectorizer\n",
    "from sklearn.model_selection import train_test_split\n",
    "from sklearn.metrics import roc_auc_score, f1_score, confusion_matrix\n",
    "from sklearn.naive_bayes import GaussianNB\n",
    "from sklearn.naive_bayes import MultinomialNB"
   ]
  },
  {
   "cell_type": "code",
   "execution_count": 4,
   "id": "15d37ccd-f592-4462-b769-9113deff020f",
   "metadata": {},
   "outputs": [],
   "source": [
    "# Opening JSON file\n",
    "f = open('MMHS150K_GT.json')\n",
    " \n",
    "# returns JSON object as \n",
    "# a dictionary\n",
    "data = json.load(f)\n",
    "text = []\n",
    "labels = []\n",
    "# Closing file\n",
    "f.close()\n",
    "# Iterating through the json\n",
    "# list\n",
    "for i in data:\n",
    "    text.append(data[i][\"tweet_text\"].split(\"https://\")[0])\n",
    "    labels.append(data[i][\"labels_str\"][0])"
   ]
  },
  {
   "cell_type": "code",
   "execution_count": 7,
   "id": "0dfd9abb-c732-4949-9c56-957445eb5437",
   "metadata": {},
   "outputs": [
    {
     "name": "stdout",
     "output_type": "stream",
     "text": [
      "Training accuracy: 0.6970832151379132\n",
      "Testing accuracy: 0.7023861171366594\n"
     ]
    }
   ],
   "source": [
    "training, testing, y_train, y_test = train_test_split(text, labels, test_size=0.2)\n",
    "\n",
    "# Load GloVe word vectors\n",
    "def load_glove_vectors(glove_file):\n",
    "    embeddings_index = {}\n",
    "    with open(glove_file, 'r', encoding='utf-8') as file:\n",
    "        for line in file:\n",
    "            values = line.split()\n",
    "            word = values[0]\n",
    "            coefs = np.asarray(values[1:], dtype='float32')\n",
    "            embeddings_index[word] = coefs\n",
    "    return embeddings_index\n",
    "\n",
    "# Global Embeddings File:\n",
    "glove_file_path = 'glove.6B.50d.txt'\n",
    "glove_embeddings_index = load_glove_vectors(glove_file_path)\n",
    "\n",
    "# Function to get average GloVe vector for a sentence\n",
    "def get_average_glove_vector(sentence, embeddings_index, embedding_dim):\n",
    "    words = sentence.split()\n",
    "    vectors = [embeddings_index.get(word, np.zeros((embedding_dim,))) for word in words]\n",
    "    if vectors:\n",
    "        return np.mean(vectors, axis=0)\n",
    "    else:\n",
    "        return np.zeros((embedding_dim,))\n",
    "\n",
    "# Map sentences to GloVe embeddings\n",
    "embedding_dim = len(next(iter(glove_embeddings_index.values())))\n",
    "x_training = np.array([get_average_glove_vector(sentence, glove_embeddings_index, embedding_dim) for sentence in training])\n",
    "x_testing = np.array([get_average_glove_vector(sentence, glove_embeddings_index, embedding_dim) for sentence in testing])\n",
    "\n",
    "x_training_shifted = x_training - np.min(x_training)\n",
    "x_testing_shifted = x_testing - np.min(x_testing)\n",
    "\n",
    "NBmodel = MultinomialNB()\n",
    "NBmodel.fit(x_training_shifted, y_train)\n",
    "\n",
    "print(\"Training accuracy: \" + str(NBmodel.score(x_training_shifted, y_train)))\n",
    "print(\"Testing accuracy: \" + str(NBmodel.score(x_testing_shifted, y_test)))"
   ]
  },
  {
   "cell_type": "code",
   "execution_count": null,
   "id": "08cabcec-b4a0-42ba-b6f6-ec13c9ea6acf",
   "metadata": {},
   "outputs": [],
   "source": []
  }
 ],
 "metadata": {
  "kernelspec": {
   "display_name": "Python 3 (ipykernel)",
   "language": "python",
   "name": "python3"
  },
  "language_info": {
   "codemirror_mode": {
    "name": "ipython",
    "version": 3
   },
   "file_extension": ".py",
   "mimetype": "text/x-python",
   "name": "python",
   "nbconvert_exporter": "python",
   "pygments_lexer": "ipython3",
   "version": "3.11.4"
  }
 },
 "nbformat": 4,
 "nbformat_minor": 5
}
